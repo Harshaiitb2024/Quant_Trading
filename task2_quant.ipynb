{
 "cells": [
  {
   "cell_type": "code",
   "execution_count": 97,
   "id": "46f19eaf-2c73-4049-8585-f243aa5566d1",
   "metadata": {},
   "outputs": [
    {
     "name": "stdout",
     "output_type": "stream",
     "text": [
      "                            date     open     high      low    close  volume  \\\n",
      "0      2015-02-02 09:15:00+05:30   432.90   434.30   431.55   432.70  622129   \n",
      "1      2015-02-02 09:30:00+05:30   432.80   432.90   431.50   431.55  305896   \n",
      "2      2015-02-02 09:45:00+05:30   431.55   432.35   431.00   431.75  246096   \n",
      "3      2015-02-02 10:00:00+05:30   431.75   432.25   430.30   431.50  220553   \n",
      "4      2015-02-02 10:15:00+05:30   431.50   432.00   431.05   431.50   96235   \n",
      "...                          ...      ...      ...      ...      ...     ...   \n",
      "58314  2024-07-19 14:15:00+05:30  3121.55  3122.50  3115.25  3120.00  135538   \n",
      "58315  2024-07-19 14:30:00+05:30  3120.00  3120.10  3112.50  3117.65  180644   \n",
      "58316  2024-07-19 14:45:00+05:30  3117.70  3120.55  3107.00  3110.90  309692   \n",
      "58317  2024-07-19 15:00:00+05:30  3110.45  3113.80  3107.45  3108.80  737736   \n",
      "58318  2024-07-19 15:15:00+05:30  3109.00  3117.95  3105.60  3116.95  643287   \n",
      "\n",
      "         SMA_5        EMA_5        RSI       MACD  Signal_Line     BB_Upper  \\\n",
      "0          NaN   432.700000        NaN   0.000000     0.000000          NaN   \n",
      "1          NaN   432.316667        NaN  -0.298148    -0.059630          NaN   \n",
      "2          NaN   432.127778        NaN  -0.422977    -0.132299          NaN   \n",
      "3          NaN   431.918519        NaN  -0.554402    -0.216720          NaN   \n",
      "4       431.80   431.779012        NaN  -0.621840    -0.297744   432.827132   \n",
      "...        ...          ...        ...        ...          ...          ...   \n",
      "58314  3124.08  3122.547589  42.989085  -9.728700   -11.698316  3131.530705   \n",
      "58315  3122.54  3120.915059  44.794401 -10.277801   -11.414213  3131.671648   \n",
      "58316  3119.96  3117.576706  34.022394 -12.112979   -11.553966  3133.524918   \n",
      "58317  3115.79  3114.651137  34.258456 -13.491163   -11.941406  3127.090973   \n",
      "58318  3114.86  3115.417425  45.072698 -11.895817   -11.932288  3124.398186   \n",
      "\n",
      "          BB_Lower  High_Low_Spread  Momentum  Volatility  Lagged_Close  \\\n",
      "0              NaN             2.75       NaN         NaN           NaN   \n",
      "1              NaN             1.40       NaN         NaN        432.70   \n",
      "2              NaN             1.35       NaN         NaN        431.55   \n",
      "3              NaN             1.95       NaN         NaN        431.75   \n",
      "4       430.772868             0.95     -1.20         NaN        431.50   \n",
      "...            ...              ...       ...         ...           ...   \n",
      "58314  3116.629295             7.25     -5.35    0.001946       3121.60   \n",
      "58315  3113.408352             7.60     -6.15    0.001580       3120.00   \n",
      "58316  3106.395082            13.55    -18.75    0.001748       3117.65   \n",
      "58317  3104.489027             6.35    -12.80    0.000958       3110.90   \n",
      "58318  3105.321814            12.35     -3.05    0.001761       3108.80   \n",
      "\n",
      "       Lagged_Volume  \n",
      "0                NaN  \n",
      "1           622129.0  \n",
      "2           305896.0  \n",
      "3           246096.0  \n",
      "4           220553.0  \n",
      "...              ...  \n",
      "58314       153422.0  \n",
      "58315       135538.0  \n",
      "58316       180644.0  \n",
      "58317       309692.0  \n",
      "58318       737736.0  \n",
      "\n",
      "[58319 rows x 18 columns]\n"
     ]
    }
   ],
   "source": [
    "import pandas as pd\n",
    "import numpy as np\n",
    "\n",
    "\n",
    "df = pd.read_csv('RELIANCE_15m.csv')\n",
    "\n",
    "# Feature Engineering Function\n",
    "def engineer_features(df):\n",
    "    # Moving Averages\n",
    "    df['SMA_5'] = df['close'].rolling(window=5).mean()\n",
    "    df['EMA_5'] = df['close'].ewm(span=5, adjust=False).mean()\n",
    "    \n",
    "    # RSI\n",
    "    delta = df['close'].diff(1)\n",
    "    gain = (delta.where(delta > 0, 0)).rolling(window=14).mean()\n",
    "    loss = (-delta.where(delta < 0, 0)).rolling(window=14).mean()\n",
    "    rs = gain / loss\n",
    "    df['RSI'] = 100 - (100 / (1 + rs))\n",
    "\n",
    "    # MACD\n",
    "    df['MACD'] = df['EMA_5'] - df['close'].ewm(span=26, adjust=False).mean()\n",
    "    df['Signal_Line'] = df['MACD'].ewm(span=9, adjust=False).mean()\n",
    "    \n",
    "    # Bollinger Bands\n",
    "    df['BB_Upper'] = df['SMA_5'] + 2 * df['close'].rolling(window=5).std()\n",
    "    df['BB_Lower'] = df['SMA_5'] - 2 * df['close'].rolling(window=5).std()\n",
    "\n",
    "    # Price Action Features\n",
    "    df['High_Low_Spread'] = df['high'] - df['low']\n",
    "    df['Momentum'] = df['close'].diff(4)  # 4-day momentum\n",
    "    df['Volatility'] = df['close'].pct_change().rolling(window=5).std()  # Rolling volatility\n",
    "    \n",
    "    # Lagged Features\n",
    "    df['Lagged_Close'] = df['close'].shift(1)\n",
    "    df['Lagged_Volume'] = df['volume'].shift(1)\n",
    "    \n",
    "    return df\n",
    "\n",
    "df = engineer_features(df)\n",
    "print(df)\n"
   ]
  },
  {
   "cell_type": "code",
   "execution_count": 99,
   "id": "96cbaab3-72d2-4f64-a171-3ca5e440a083",
   "metadata": {},
   "outputs": [
    {
     "name": "stderr",
     "output_type": "stream",
     "text": [
      "C:\\Users\\harsh\\AppData\\Local\\Temp\\ipykernel_28576\\3970806690.py:1: FutureWarning: DataFrame.fillna with 'method' is deprecated and will raise in a future version. Use obj.ffill() or obj.bfill() instead.\n",
      "  df.fillna(method='ffill', inplace=True)\n"
     ]
    }
   ],
   "source": [
    "df.fillna(method='ffill', inplace=True)"
   ]
  },
  {
   "cell_type": "code",
   "execution_count": 101,
   "id": "65eee6ea-ee4a-4b43-a294-b7802337d87d",
   "metadata": {},
   "outputs": [],
   "source": [
    "from sklearn.preprocessing import MinMaxScaler, StandardScaler\n",
    "\n",
    "# Normalization\n",
    "scaler = MinMaxScaler()\n",
    "normalized_features = scaler.fit_transform(df[['SMA_5', 'EMA_5', 'RSI', 'MACD', \n",
    "                                                'BB_Upper', 'BB_Lower', \n",
    "                                                'High_Low_Spread', 'Momentum', \n",
    "                                                'Volatility', 'Lagged_Close', \n",
    "                                                'Lagged_Volume']])\n",
    "df_normal = pd.DataFrame(normalized_features, columns=['SMA_5', 'EMA_5', 'RSI', 'MACD', \n",
    "                                                            'BB_Upper', 'BB_Lower', \n",
    "                                                            'High_Low_Spread', 'Momentum', \n",
    "                                                            'Volatility', 'Lagged_Close', \n",
    "                                                            'Lagged_Volume'])\n"
   ]
  },
  {
   "cell_type": "code",
   "execution_count": 103,
   "id": "dd44099e-da80-479c-a67b-ffce3cb347ad",
   "metadata": {},
   "outputs": [
    {
     "name": "stdout",
     "output_type": "stream",
     "text": [
      "              precision    recall  f1-score   support\n",
      "\n",
      "           0       0.52      0.60      0.56      5981\n",
      "           1       0.50      0.42      0.45      5683\n",
      "\n",
      "    accuracy                           0.51     11664\n",
      "   macro avg       0.51      0.51      0.51     11664\n",
      "weighted avg       0.51      0.51      0.51     11664\n",
      "\n",
      "Accuracy: 0.5115740740740741\n"
     ]
    }
   ],
   "source": [
    "from sklearn.ensemble import RandomForestClassifier\n",
    "from sklearn.model_selection import train_test_split\n",
    "from sklearn.metrics import classification_report, accuracy_score\n",
    "\n",
    "# Create target variable (1 if price will go up, 0 if down)\n",
    "df_normal['Target'] = (df['close'].shift(-1) > df['close']).astype(int)\n",
    "\n",
    "# Train-Test Split\n",
    "y = df_normal['Target'].iloc[1:-1]  # Exclude NaN values\n",
    "X = df_normal.drop(['Target'], axis=1).iloc[1:-1]  # Exclude NaN values\n",
    "\n",
    "X_train, X_test, y_train, y_test = train_test_split(X, y, test_size=0.2, random_state=42)\n",
    "\n",
    "# Train Random Forest Model\n",
    "model = RandomForestClassifier(n_estimators=500, random_state=42)\n",
    "model.fit(X_train, y_train)\n",
    "\n",
    "# Predictions\n",
    "y_pred = model.predict(X_test)\n",
    "\n",
    "# Evaluation\n",
    "print(classification_report(y_test, y_pred))\n",
    "print(\"Accuracy:\", accuracy_score(y_test, y_pred))\n"
   ]
  },
  {
   "cell_type": "code",
   "execution_count": 105,
   "id": "9533c07c-3684-4a70-bb41-dca5391b4601",
   "metadata": {},
   "outputs": [],
   "source": [
    "#strategy development"
   ]
  },
  {
   "cell_type": "code",
   "execution_count": 107,
   "id": "efe173d5-8178-49e6-89d5-05ef8cc52c5d",
   "metadata": {},
   "outputs": [],
   "source": [
    "# Simulate a simple trading strategy based on predictions\n",
    "df['Predicted_Signal'] = model.predict(df_normalized)\n",
    "\n",
    "# Simple Backtesting Logic\n",
    "initial_capital = 10000\n",
    "positions = 1  # You can define your position sizing strategy\n",
    "portfolio = initial_capital * (1 + df['Predicted_Signal'].shift(1).fillna(0) * df['close'].pct_change())\n",
    "\n"
   ]
  },
  {
   "cell_type": "code",
   "execution_count": 109,
   "id": "da180fa4-50c1-45c7-bed6-c322f2f07021",
   "metadata": {},
   "outputs": [
    {
     "data": {
      "text/plain": [
       "10026.215903242408"
      ]
     },
     "execution_count": 109,
     "metadata": {},
     "output_type": "execute_result"
    }
   ],
   "source": [
    "portfolio.iloc[-1]"
   ]
  },
  {
   "cell_type": "code",
   "execution_count": 111,
   "id": "4db1259a-36d2-41c1-8b09-9281f3a42c2b",
   "metadata": {},
   "outputs": [
    {
     "name": "stdout",
     "output_type": "stream",
     "text": [
      "Cumulative Returns: 0.002621590324240808\n",
      "Max Drawdown: 1082.8579905149454\n"
     ]
    }
   ],
   "source": [
    "# Calculate performance metrics\n",
    "cumulative_returns = portfolio.iloc[-1]/ initial_capital - 1\n",
    "max_drawdown = (portfolio.cummax() - portfolio).max()\n",
    "\n",
    "print(\"Cumulative Returns:\", cumulative_returns)\n",
    "print(\"Max Drawdown:\", max_drawdown)\n"
   ]
  },
  {
   "cell_type": "code",
   "execution_count": null,
   "id": "a4fe77a7-6a21-4100-82f8-dad1ae63045a",
   "metadata": {},
   "outputs": [],
   "source": []
  },
  {
   "cell_type": "code",
   "execution_count": null,
   "id": "55c29029-bcde-4f41-b307-3987085f5074",
   "metadata": {},
   "outputs": [],
   "source": []
  },
  {
   "cell_type": "code",
   "execution_count": null,
   "id": "ef235510-b73c-41c3-af42-4bc22884be0f",
   "metadata": {},
   "outputs": [],
   "source": []
  },
  {
   "cell_type": "code",
   "execution_count": null,
   "id": "4e44ccb3-22fc-4a52-b6b8-73abf2b0a267",
   "metadata": {},
   "outputs": [],
   "source": []
  }
 ],
 "metadata": {
  "kernelspec": {
   "display_name": "Python 3 (ipykernel)",
   "language": "python",
   "name": "python3"
  },
  "language_info": {
   "codemirror_mode": {
    "name": "ipython",
    "version": 3
   },
   "file_extension": ".py",
   "mimetype": "text/x-python",
   "name": "python",
   "nbconvert_exporter": "python",
   "pygments_lexer": "ipython3",
   "version": "3.12.4"
  }
 },
 "nbformat": 4,
 "nbformat_minor": 5
}
